{
 "cells": [
  {
   "cell_type": "markdown",
   "metadata": {},
   "source": [
    "# Linear Regression for House Prices\n",
    "\n",
    "Based on the [UFLDL tutorial](http://ufldl.stanford.edu/tutorial/supervised/LinearRegression) with a few key changes:\n",
    "\n",
    " - Matrix operations are used on the whole dataset (as a single batch given it is small), rather than loops on individual items.\n",
    " - Single training example x-values are row rather than column vectors (i.e. we use $y = x w^T + b$ not $y = w^T x + b$)."
   ]
  },
  {
   "cell_type": "code",
   "execution_count": 175,
   "metadata": {},
   "outputs": [],
   "source": [
    "from os import path\n",
    "from requests import get\n",
    "from pandas import read_fwf\n",
    "from torch import tensor\n",
    "import torch\n",
    "from unittest import TestCase, TextTestRunner, TestLoader\n",
    "from matplotlib import pyplot"
   ]
  },
  {
   "cell_type": "markdown",
   "metadata": {},
   "source": [
    "## Data\n",
    "\n",
    "Note that the convention used in this tutorial is to represent training examples as colums, whereas in Pytorch the convention is e.g. `nn.Linear` is to use [training examples as rows](https://pytorch.org/docs/stable/generated/torch.nn.Linear.html#torch.nn.Linear) which seems more intuative. For this work I'll adopt the PyTorch convention, so that for a single training example the x-values are assumed to be a row vector and the weights are also a row vector."
   ]
  },
  {
   "cell_type": "code",
   "execution_count": 99,
   "metadata": {},
   "outputs": [
    {
     "data": {
      "text/html": [
       "<div>\n",
       "<style scoped>\n",
       "    .dataframe tbody tr th:only-of-type {\n",
       "        vertical-align: middle;\n",
       "    }\n",
       "\n",
       "    .dataframe tbody tr th {\n",
       "        vertical-align: top;\n",
       "    }\n",
       "\n",
       "    .dataframe thead th {\n",
       "        text-align: right;\n",
       "    }\n",
       "</style>\n",
       "<table border=\"1\" class=\"dataframe\">\n",
       "  <thead>\n",
       "    <tr style=\"text-align: right;\">\n",
       "      <th></th>\n",
       "      <th>0</th>\n",
       "      <th>1</th>\n",
       "      <th>2</th>\n",
       "      <th>3</th>\n",
       "      <th>4</th>\n",
       "      <th>5</th>\n",
       "      <th>6</th>\n",
       "      <th>7</th>\n",
       "      <th>8</th>\n",
       "      <th>9</th>\n",
       "      <th>10</th>\n",
       "      <th>11</th>\n",
       "      <th>12</th>\n",
       "      <th>Price</th>\n",
       "    </tr>\n",
       "  </thead>\n",
       "  <tbody>\n",
       "    <tr>\n",
       "      <th>0</th>\n",
       "      <td>0.00632</td>\n",
       "      <td>18.0</td>\n",
       "      <td>2.31</td>\n",
       "      <td>0</td>\n",
       "      <td>0.538</td>\n",
       "      <td>6.575</td>\n",
       "      <td>65.2</td>\n",
       "      <td>4.0900</td>\n",
       "      <td>1</td>\n",
       "      <td>296.0</td>\n",
       "      <td>15.3</td>\n",
       "      <td>396.90</td>\n",
       "      <td>4.98</td>\n",
       "      <td>24.0</td>\n",
       "    </tr>\n",
       "    <tr>\n",
       "      <th>1</th>\n",
       "      <td>0.02731</td>\n",
       "      <td>0.0</td>\n",
       "      <td>7.07</td>\n",
       "      <td>0</td>\n",
       "      <td>0.469</td>\n",
       "      <td>6.421</td>\n",
       "      <td>78.9</td>\n",
       "      <td>4.9671</td>\n",
       "      <td>2</td>\n",
       "      <td>242.0</td>\n",
       "      <td>17.8</td>\n",
       "      <td>396.90</td>\n",
       "      <td>9.14</td>\n",
       "      <td>21.6</td>\n",
       "    </tr>\n",
       "    <tr>\n",
       "      <th>2</th>\n",
       "      <td>0.02729</td>\n",
       "      <td>0.0</td>\n",
       "      <td>7.07</td>\n",
       "      <td>0</td>\n",
       "      <td>0.469</td>\n",
       "      <td>7.185</td>\n",
       "      <td>61.1</td>\n",
       "      <td>4.9671</td>\n",
       "      <td>2</td>\n",
       "      <td>242.0</td>\n",
       "      <td>17.8</td>\n",
       "      <td>392.83</td>\n",
       "      <td>4.03</td>\n",
       "      <td>34.7</td>\n",
       "    </tr>\n",
       "    <tr>\n",
       "      <th>3</th>\n",
       "      <td>0.03237</td>\n",
       "      <td>0.0</td>\n",
       "      <td>2.18</td>\n",
       "      <td>0</td>\n",
       "      <td>0.458</td>\n",
       "      <td>6.998</td>\n",
       "      <td>45.8</td>\n",
       "      <td>6.0622</td>\n",
       "      <td>3</td>\n",
       "      <td>222.0</td>\n",
       "      <td>18.7</td>\n",
       "      <td>394.63</td>\n",
       "      <td>2.94</td>\n",
       "      <td>33.4</td>\n",
       "    </tr>\n",
       "    <tr>\n",
       "      <th>4</th>\n",
       "      <td>0.06905</td>\n",
       "      <td>0.0</td>\n",
       "      <td>2.18</td>\n",
       "      <td>0</td>\n",
       "      <td>0.458</td>\n",
       "      <td>7.147</td>\n",
       "      <td>54.2</td>\n",
       "      <td>6.0622</td>\n",
       "      <td>3</td>\n",
       "      <td>222.0</td>\n",
       "      <td>18.7</td>\n",
       "      <td>396.90</td>\n",
       "      <td>5.33</td>\n",
       "      <td>36.2</td>\n",
       "    </tr>\n",
       "  </tbody>\n",
       "</table>\n",
       "</div>"
      ],
      "text/plain": [
       "         0     1     2  3      4      5     6       7  8      9    10      11  \\\n",
       "0  0.00632  18.0  2.31  0  0.538  6.575  65.2  4.0900  1  296.0  15.3  396.90   \n",
       "1  0.02731   0.0  7.07  0  0.469  6.421  78.9  4.9671  2  242.0  17.8  396.90   \n",
       "2  0.02729   0.0  7.07  0  0.469  7.185  61.1  4.9671  2  242.0  17.8  392.83   \n",
       "3  0.03237   0.0  2.18  0  0.458  6.998  45.8  6.0622  3  222.0  18.7  394.63   \n",
       "4  0.06905   0.0  2.18  0  0.458  7.147  54.2  6.0622  3  222.0  18.7  396.90   \n",
       "\n",
       "     12  Price  \n",
       "0  4.98   24.0  \n",
       "1  9.14   21.6  \n",
       "2  4.03   34.7  \n",
       "3  2.94   33.4  \n",
       "4  5.33   36.2  "
      ]
     },
     "execution_count": 99,
     "metadata": {},
     "output_type": "execute_result"
    }
   ],
   "source": [
    "local_path = path.join(\"data\", \"housing.data\")\n",
    "\n",
    "# Download the data if it doesn't exist localy\n",
    "if not path.isfile(local_path):\n",
    "    # Use a github-based source for convenience of downloading (the tutorial data link no longer exists)\n",
    "    housing_data_url = \"https://raw.githubusercontent.com/ehlemur/UFLDL/master/housing.data\"\n",
    "    r = get(housing_data_url, allow_redirects=True)\n",
    "    open(local_path, 'wb').write(r.content)\n",
    "\n",
    "# Get the data from the file, and show a smaple\n",
    "df = read_fwf(local_path, header=None)\n",
    "df.rename(columns={13 : \"Price\"}).head()"
   ]
  },
  {
   "cell_type": "markdown",
   "metadata": {},
   "source": [
    "As the columns are quite different, we will want to normalize each column:"
   ]
  },
  {
   "cell_type": "code",
   "execution_count": 191,
   "metadata": {},
   "outputs": [
    {
     "data": {
      "text/plain": [
       "tensor([-0.6444,  0.2845, -1.2866, -0.2723, -0.1441,  0.4133, -0.1199,  0.1969,\n",
       "        -2.3512, -0.6659, -1.4576,  0.4406, -1.0745, 24.0000])"
      ]
     },
     "execution_count": 191,
     "metadata": {},
     "output_type": "execute_result"
    }
   ],
   "source": [
    "raw_data = tensor(df.values, dtype=torch.float)\n",
    "rows_mean = raw_data.mean(0)\n",
    "rows_std = raw_data.std(0)\n",
    "normalized = (raw_data - rows_mean ) / rows_std\n",
    "normalized[:,-1] = raw_data[:,-1] # Put the price back in so the charts make sense\n",
    "normalized[0,:] # View the first row"
   ]
  },
  {
   "cell_type": "markdown",
   "metadata": {},
   "source": [
    "Converting to tensors:"
   ]
  },
  {
   "cell_type": "code",
   "execution_count": 186,
   "metadata": {},
   "outputs": [
    {
     "data": {
      "text/plain": [
       "(torch.Size([400, 13]),\n",
       " torch.Size([400, 1]),\n",
       " torch.Size([105, 13]),\n",
       " torch.Size([105, 1]))"
      ]
     },
     "execution_count": 186,
     "metadata": {},
     "output_type": "execute_result"
    }
   ],
   "source": [
    "train_x = normalized[:400,0:-1]\n",
    "train_y = normalized[:400,-1].unsqueeze(1) # Make vertical vector\n",
    "test_x = normalized[401:,0:-1]\n",
    "test_y = normalized[401:,-1].unsqueeze(1)\n",
    "train_x.shape, train_y.shape, test_x.shape, test_y.shape"
   ]
  },
  {
   "cell_type": "markdown",
   "metadata": {},
   "source": [
    "## Model\n",
    "\n",
    "### Hypothesis\n",
    "\n",
    "$\n",
    "h(x^i) = \\sum_j x^i_j w_j + b\n",
    "$\n",
    "\n",
    "For a batch:\n",
    "\n",
    "$\n",
    "h(X) = X w^T + b\n",
    "\\\\\n",
    "X \\in \\mathbb{R}^{m \\times n}, w \\in \\mathbb{R}^{1 \\times n}, b \\in \\mathbb{R}\n",
    "\\\\\n",
    "m = \\text{number of items in the batch}\n",
    "$"
   ]
  },
  {
   "cell_type": "code",
   "execution_count": 4,
   "metadata": {},
   "outputs": [
    {
     "name": "stderr",
     "output_type": "stream",
     "text": [
      "test_batch (__main__.TestWeightedSumInputs) ... ok\n",
      "\n",
      "----------------------------------------------------------------------\n",
      "Ran 1 test in 0.002s\n",
      "\n",
      "OK\n"
     ]
    },
    {
     "data": {
      "text/plain": [
       "<unittest.runner.TextTestResult run=1 errors=0 failures=0>"
      ]
     },
     "execution_count": 4,
     "metadata": {},
     "output_type": "execute_result"
    }
   ],
   "source": [
    "def weighted_sum_inputs(inputs: tensor, weights: tensor, bias: float) -> tensor:\n",
    "    \"\"\"\n",
    "    Return the elementwise multiplication plus a bias\n",
    "    \n",
    "    Parameters\n",
    "    ==========\n",
    "    inputs: mxn matrix, where m is the number of items in a batch and n is the number of values in each item's input\n",
    "    weights: 1xn vector of weights (note must be 2 dimensional)\n",
    "    bias: float bias\n",
    "    \n",
    "    Returns\n",
    "    =======\n",
    "    Column vector of predictions (1xm tensor)\n",
    "    \"\"\"\n",
    "    # Check the shapes (to avoid common errors)\n",
    "    assert(inputs.dim() > 1)\n",
    "    assert(weights.dim() > 1)\n",
    "    \n",
    "    # Return the weighted sum of inputs\n",
    "    weights_transposed = torch.transpose(weights, 0, -1)\n",
    "    return torch.matmul(inputs, weights_transposed) + bias\n",
    "\n",
    "class TestWeightedSumInputs(TestCase):\n",
    "    def test_batch(self):\n",
    "        inputs = tensor(\n",
    "            [[1.,2,3],\n",
    "             [1,2,5]]\n",
    "        )\n",
    "        weights = tensor([[2.,2,2]])\n",
    "        bias = 1.\n",
    "        res = weighted_sum_inputs(inputs, weights, bias)\n",
    "        expected = tensor([[13.],[17.]])\n",
    "        self.assertTrue(torch.all(torch.eq(res,expected)))\n",
    "\n",
    "suite = TestLoader().loadTestsFromTestCase(TestWeightedSumInputs)\n",
    "TextTestRunner(verbosity=4).run(suite)"
   ]
  },
  {
   "cell_type": "markdown",
   "metadata": {},
   "source": [
    "### Loss\n",
    "\n",
    "For loss we use the half mean squared error across all training items:\n",
    "\n",
    "$\n",
    "\\displaystyle\n",
    "J(w) = \\frac{1}{2 n} \\sum_i (h(x^i)-y^i)^2\n",
    "\\\\\n",
    "y \\in \\mathbb{R}^{n \\times 1}\n",
    "\\\\\n",
    "n = \\text{number of samples}\n",
    "$"
   ]
  },
  {
   "cell_type": "code",
   "execution_count": 5,
   "metadata": {},
   "outputs": [
    {
     "name": "stderr",
     "output_type": "stream",
     "text": [
      "test_batch (__main__.TestHalfSumSquaredErrors) ... ok\n",
      "\n",
      "----------------------------------------------------------------------\n",
      "Ran 1 test in 0.002s\n",
      "\n",
      "OK\n"
     ]
    },
    {
     "data": {
      "text/plain": [
       "<unittest.runner.TextTestResult run=1 errors=0 failures=0>"
      ]
     },
     "execution_count": 5,
     "metadata": {},
     "output_type": "execute_result"
    }
   ],
   "source": [
    "def half_mean_squared_error(predictions: tensor, targets: tensor) -> float:\n",
    "    \"\"\"\n",
    "    Returns the half mean squared error of a batch\n",
    "    \n",
    "    Parameters\n",
    "    ==========\n",
    "    predictions: column vector of predictions\n",
    "    targets: column vector of targets\n",
    "    \n",
    "    Returns\n",
    "    ======\n",
    "    Batch loss (float)\n",
    "    \"\"\"\n",
    "    squared_errors = (predictions - targets) ** 2\n",
    "    sum_squared_errors = torch.sum(squared_errors).item()\n",
    "    number_predictions = predictions.shape[0]\n",
    "    return sum_squared_errors / (2 * number_predictions )\n",
    "\n",
    "class TestHalfSumSquaredErrors(TestCase):\n",
    "    def test_batch(self):\n",
    "        predictions = tensor([[1.],[1]])\n",
    "        targets = tensor([[3.],[3]])\n",
    "        expected = 2.0\n",
    "        res = half_mean_squared_error(predictions, targets)\n",
    "        self.assertEqual(res, expected)\n",
    "\n",
    "suite = TestLoader().loadTestsFromTestCase(TestHalfSumSquaredErrors)\n",
    "TextTestRunner(verbosity=4).run(suite)"
   ]
  },
  {
   "cell_type": "markdown",
   "metadata": {},
   "source": [
    "### Back Propogation\n",
    "\n",
    "For a specific $w_j$ the partial derivaive of loss is:\n",
    "\n",
    "$\n",
    "\\displaystyle\n",
    "\\frac{\\partial J}{\\partial w_j} = \\frac{1}{n} \\sum_i(x_j^i \\times (h(x^i) - y^i))\n",
    "$\n",
    "\n",
    "Using matrix operators on the batch:\n",
    "\n",
    "$\n",
    "v = \\text{errors} = h(X) - y ;  v \\in \\mathbb{R}^{n \\times 1}\n",
    "\\\\\n",
    "\\displaystyle\n",
    "\\nabla_w J = \\frac{1}{n} v^T X\n",
    "\\\\\n",
    "\\nabla_w \\in \\mathbb{R}^{1 \\times n}\n",
    "$"
   ]
  },
  {
   "cell_type": "code",
   "execution_count": 77,
   "metadata": {},
   "outputs": [
    {
     "name": "stderr",
     "output_type": "stream",
     "text": [
      "test_batch (__main__.TestGradientLossWithRespectToWeights) ... ok\n",
      "\n",
      "----------------------------------------------------------------------\n",
      "Ran 1 test in 0.002s\n",
      "\n",
      "OK\n"
     ]
    },
    {
     "data": {
      "text/plain": [
       "<unittest.runner.TextTestResult run=1 errors=0 failures=0>"
      ]
     },
     "execution_count": 77,
     "metadata": {},
     "output_type": "execute_result"
    }
   ],
   "source": [
    "def gradient_loss_with_respect_to_weights(inputs: tensor, predictions: tensor, targets: tensor) -> tensor:\n",
    "    \"\"\"\n",
    "    Returns the partial derivative of loss with respect to all weights (as a row vector)\n",
    "    \"\"\"\n",
    "    errors = predictions - targets\n",
    "    errors_transposed = errors.T\n",
    "    number_predictions = predictions.shape[0]\n",
    "    return torch.matmul(errors_transposed, inputs) / number_predictions\n",
    "\n",
    "class TestGradientLossWithRespectToWeights(TestCase):\n",
    "    def test_batch(self):\n",
    "        inputs = tensor([\n",
    "            [1., 1],\n",
    "            [2., 4]\n",
    "        ])\n",
    "        predictions = tensor([\n",
    "            [1.],\n",
    "            [2]\n",
    "        ])\n",
    "        targets = tensor([\n",
    "            [2.],\n",
    "            [3.]\n",
    "        ])\n",
    "        res = gradient_loss_with_respect_to_weights(inputs, predictions, targets)\n",
    "        expected = tensor([[-1.5, -2.5]])\n",
    "        self.assertTrue(torch.all(torch.eq(res,expected)))\n",
    "\n",
    "suite = TestLoader().loadTestsFromTestCase(TestGradientLossWithRespectToWeights)\n",
    "TextTestRunner(verbosity=4).run(suite)"
   ]
  },
  {
   "cell_type": "markdown",
   "metadata": {},
   "source": [
    "For the bias, the partial derivative of loss is:\n",
    "\n",
    "$\n",
    "\\displaystyle\n",
    "\\frac{\\partial J}{\\partial b} = \\frac{1}{n} \\sum_i(h(x^i) - y^i))\n",
    "$"
   ]
  },
  {
   "cell_type": "code",
   "execution_count": 48,
   "metadata": {},
   "outputs": [
    {
     "name": "stderr",
     "output_type": "stream",
     "text": [
      "test_batch (__main__.TestPartialDerivativeLossWithRespectToBias) ... ok\n",
      "\n",
      "----------------------------------------------------------------------\n",
      "Ran 1 test in 0.002s\n",
      "\n",
      "OK\n"
     ]
    },
    {
     "data": {
      "text/plain": [
       "<unittest.runner.TextTestResult run=1 errors=0 failures=0>"
      ]
     },
     "execution_count": 48,
     "metadata": {},
     "output_type": "execute_result"
    }
   ],
   "source": [
    "def partial_derivative_loss_with_respect_to_bias(predictions: tensor, targets: tensor) -> float:\n",
    "    errors = predictions - targets\n",
    "    sum_errors = torch.sum(errors)\n",
    "    number_predictions = predictions.shape[0]\n",
    "    return sum_errors.item() / number_predictions\n",
    "\n",
    "class TestPartialDerivativeLossWithRespectToBias(TestCase):\n",
    "    def test_batch(self):\n",
    "        predictions = tensor([\n",
    "            [1.],\n",
    "            [2]\n",
    "        ])\n",
    "        targets = tensor([\n",
    "            [2.],\n",
    "            [3.]\n",
    "        ])\n",
    "        res = partial_derivative_loss_with_respect_to_bias(predictions, targets)\n",
    "        expected = (1. - 2 + 2 - 3)/2\n",
    "        self.assertEqual(res, expected)\n",
    "\n",
    "suite = TestLoader().loadTestsFromTestCase(TestPartialDerivativeLossWithRespectToBias)\n",
    "TextTestRunner(verbosity=4).run(suite)"
   ]
  },
  {
   "cell_type": "markdown",
   "metadata": {},
   "source": [
    "### Step\n",
    "\n",
    "We step the weights (row vector) and bias (float) by the learning rate multiplied by the respective partial derivatives:\n",
    "\n",
    "$\n",
    "w_{t+1} = w_t - \\nabla_w J * l_r\n",
    "\\\\\n",
    "b_{t+1} = b_t - \\frac{\\partial J}{\\partial b} * l_r\n",
    "\\\\\n",
    "l_r \\in \\mathbb{R}\n",
    "$\n",
    "\n",
    "These steps are done inline in the sgd function, for simplicity."
   ]
  },
  {
   "cell_type": "markdown",
   "metadata": {},
   "source": [
    "## Putting it all together (SGD)\n",
    "\n",
    "After initialising the random weights & bias, we loop through epochs that:\n",
    "\n",
    " 1. Calculate the hypothesis result\n",
    " 2. Calculate the loss\n",
    " 3. Calculate the partial derivatives\n",
    " 4. Step the weights and bias"
   ]
  },
  {
   "cell_type": "code",
   "execution_count": 187,
   "metadata": {},
   "outputs": [
    {
     "name": "stdout",
     "output_type": "stream",
     "text": [
      "Epoch:  1 loss:  384.4596875\n",
      "Epoch:  100 loss:  47.5880078125\n",
      "Epoch:  200 loss:  20.77211669921875\n",
      "Epoch:  300 loss:  15.47825927734375\n",
      "Epoch:  400 loss:  13.999190673828124\n",
      "Epoch:  500 loss:  13.435069580078125\n",
      "Epoch:  600 loss:  13.150001220703125\n",
      "Epoch:  700 loss:  12.97358154296875\n",
      "Epoch:  800 loss:  12.851387939453126\n",
      "Epoch:  900 loss:  12.76211669921875\n",
      "Epoch:  1000 loss:  12.695303955078124\n"
     ]
    }
   ],
   "source": [
    "def sgd(inputs: tensor, targets: tensor, epochs: int, learning_rate: float) -> (tensor, float):\n",
    "    # Initialise random weights and bias\n",
    "    weights = torch.rand(1, inputs.shape[1], dtype=torch.float)\n",
    "    bias = torch.rand(1).item()\n",
    "    \n",
    "    for i in range(epochs):\n",
    "    \n",
    "        predictions = weighted_sum_inputs(inputs, weights, bias)\n",
    "\n",
    "        loss = half_mean_squared_error(predictions, targets)\n",
    "\n",
    "        partial_d_weights = gradient_loss_with_respect_to_weights(inputs, predictions, targets)\n",
    "        partial_d_bias = partial_derivative_loss_with_respect_to_bias(predictions, targets)\n",
    "        \n",
    "        # step\n",
    "        weights -= partial_d_weights * learning_rate\n",
    "        bias -= partial_d_bias * learning_rate\n",
    "        \n",
    "        if i == 0 or ((i + 1) % 100) == 0:\n",
    "            print(\"Epoch: \", i + 1 , \"loss: \", loss)\n",
    "    \n",
    "    return weights, bias\n",
    "    \n",
    "trained_weights, trained_bias = sgd(train_x, train_y, 1000,.01)"
   ]
  },
  {
   "cell_type": "markdown",
   "metadata": {},
   "source": [
    "## Test the model"
   ]
  },
  {
   "cell_type": "code",
   "execution_count": 195,
   "metadata": {},
   "outputs": [
    {
     "data": {
      "image/png": "[encoded data removed]",
      "text/plain": [
       "<Figure size 432x288 with 1 Axes>"
      ]
     },
     "metadata": {
      "needs_background": "light"
     },
     "output_type": "display_data"
    }
   ],
   "source": [
    "predictions = weighted_sum_inputs(test_x, trained_weights, trained_bias)\n",
    "pyplot.plot(predictions), pyplot.plot(test_y)\n",
    "pyplot.ylabel(\"Prices ($USD '000s)\")\n",
    "pyplot.xlabel(\"Houses\")\n",
    "plt.show()"
   ]
  },
  {
   "cell_type": "markdown",
   "metadata": {},
   "source": [
    "Looks pretty accurate!"
   ]
  }
 ],
 "metadata": {
  "kernelspec": {
   "display_name": "Python 3",
   "language": "python",
   "name": "python3"
  },
  "language_info": {
   "codemirror_mode": {
    "name": "ipython",
    "version": 3
   },
   "file_extension": ".py",
   "mimetype": "text/x-python",
   "name": "python",
   "nbconvert_exporter": "python",
   "pygments_lexer": "ipython3",
   "version": "3.8.5"
  }
 },
 "nbformat": 4,
 "nbformat_minor": 4
}
