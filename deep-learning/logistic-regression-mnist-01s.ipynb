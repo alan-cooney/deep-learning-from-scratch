{
 "cells": [
  {
   "cell_type": "markdown",
   "metadata": {},
   "source": [
    "# Logistic Regression for MNIST Data Set\n",
    "\n",
    "A logistic regression for the 0s and 1s only from the MNIST dataset.\n",
    "\n",
    "<img src=\"http://ufldl.stanford.edu/tutorial/images/Mnist_01.png\"/>\n",
    "\n",
    "Based on the [UFLDL tutorial](http://ufldl.stanford.edu/tutorial/supervised/LogisticRegression/) with a few key changes:\n",
    "\n",
    " - Matrix operations are used on the whole dataset (as a single batch given it is small), rather than loops on individual items.\n",
    " - Single training example x-values are row rather than column vectors (i.e. we use $y = x w^T + b$ not $y = w^T x + b$)."
   ]
  },
  {
   "cell_type": "code",
   "execution_count": 1,
   "metadata": {},
   "outputs": [],
   "source": [
    "from torchvision import transforms, datasets\n",
    "import torch\n",
    "from torch import tensor\n",
    "import doctest"
   ]
  },
  {
   "cell_type": "markdown",
   "metadata": {},
   "source": [
    "## Data\n",
    "\n",
    "This time we'll use DataLoaders for their batching functionality."
   ]
  },
  {
   "cell_type": "code",
   "execution_count": 70,
   "metadata": {},
   "outputs": [
    {
     "data": {
      "text/plain": [
       "12665"
      ]
     },
     "execution_count": 70,
     "metadata": {},
     "output_type": "execute_result"
    }
   ],
   "source": [
    "# Get the dataset from torchvision\n",
    "transform = transforms.Compose([transforms.ToTensor(),\n",
    "                              transforms.Normalize((0.5,), (0.5,)),\n",
    "                              ])\n",
    "train_dataset = datasets.MNIST(\"./data\", train=True,  download=True, transform=transform)\n",
    "test_dataset = datasets.MNIST(\"./data\", train=False, download=True, transform=transform)\n",
    "\n",
    "# Filter to those that are labelled as 0s or 1s\n",
    "train_images_list = [i[0].flatten() for i in train_dataset if i[1] < 2] \n",
    "train_values_list = [tensor(i[1]) for i in train_dataset if i[1] < 2]\n",
    "test_images_list = [i[0].flatten() for i in test_dataset if i[1] < 2] \n",
    "test_values_list = [tensor(i[1]) for i in test_dataset if i[1] < 2]\n",
    "len(train_images_list)"
   ]
  },
  {
   "cell_type": "code",
   "execution_count": 73,
   "metadata": {},
   "outputs": [
    {
     "data": {
      "text/plain": [
       "<matplotlib.image.AxesImage at 0x7fdb5ad22310>"
      ]
     },
     "execution_count": 73,
     "metadata": {},
     "output_type": "execute_result"
    },
    {
     "data": {
      "image/png": "[encoded data removed]",
      "text/plain": [
       "<Figure size 432x288 with 1 Axes>"
      ]
     },
     "metadata": {
      "needs_background": "light"
     },
     "output_type": "display_data"
    }
   ],
   "source": [
    "from matplotlib import pyplot\n",
    "pyplot.imshow(train_dataset[0][0].squeeze(), cmap='gray_r')"
   ]
  },
  {
   "cell_type": "code",
   "execution_count": 72,
   "metadata": {},
   "outputs": [
    {
     "data": {
      "text/plain": [
       "(torch.Size([12665, 784]), torch.Size([12665, 1]))"
      ]
     },
     "execution_count": 72,
     "metadata": {},
     "output_type": "execute_result"
    }
   ],
   "source": [
    "train_x = torch.stack(train_images_list)\n",
    "train_y = torch.stack(train_values_list).unsqueeze(1) # Make vertical tensor\n",
    "test_x = torch.stack(test_images_list)\n",
    "test_y = torch.stack(test_values_list).unsqueeze(1)\n",
    "train_x.shape, train_y.shape"
   ]
  },
  {
   "cell_type": "markdown",
   "metadata": {},
   "source": [
    "## Model\n",
    "\n",
    "### Logistic Function (Sigmoid)\n",
    "\n",
    "We now use sigmoid (`torch.sigmoid`) to constrain the predictions to a range of 0-to-1:\n",
    "\n",
    "$\n",
    "\\begin{align}\n",
    "P(y=1|x) &= h_\\theta(x) = \\frac{1}{1 + \\exp(-x \\theta^\\top)}\n",
    "\\\\\n",
    "P(y=0|x) &= 1 - P(y=1|x) = 1 - h_\\theta(x)\n",
    "\\end{align}\n",
    "$\n",
    "\n",
    "### Loss\n",
    "\n",
    "For loss we will use negative log likelihood loss:\n",
    "\n",
    "$\n",
    "J(\\theta) = - \\sum_i \\left(y^{(i)} \\log( h_\\theta(x^{(i)}) ) + (1 - y^{(i)}) \\log( 1 - h_\\theta(x^{(i)}) ) \\right)\n",
    "$"
   ]
  },
  {
   "cell_type": "code",
   "execution_count": 43,
   "metadata": {},
   "outputs": [
    {
     "data": {
      "text/plain": [
       "1.3862943649291992"
      ]
     },
     "execution_count": 43,
     "metadata": {},
     "output_type": "execute_result"
    }
   ],
   "source": [
    "def nll_loss_binary(predictions: tensor, targets: tensor)-> float:\n",
    "    \"\"\"\n",
    "    Binary Negative Log Likelihood Loss (2 output classes)\n",
    "    \n",
    "    Rather than taking an batch size x categories tensor, it just\n",
    "    takes a batch size x 1 tensor as the prediction is simply either\n",
    "    1 or 0.\n",
    "    \"\"\"\n",
    "    left = targets * torch.log(predictions)\n",
    "    right = (1 - targets) * torch.log(1 - predictions)\n",
    "    negative_sum = - torch.sum(torch.stack([left, right]))\n",
    "    return negative_sum.item()\n",
    "\n",
    "# Test (expecting -ln(0.5*2) = 1.386)\n",
    "nll_loss_binary(tensor([[0.5,], [0.5]]), tensor([[1.,], [0.]]))"
   ]
  },
  {
   "cell_type": "code",
   "execution_count": 62,
   "metadata": {},
   "outputs": [
    {
     "data": {
      "text/plain": [
       "tensor([0.])"
      ]
     },
     "execution_count": 62,
     "metadata": {},
     "output_type": "execute_result"
    }
   ],
   "source": [
    "torch.sigmoid(tensor([-100]))"
   ]
  },
  {
   "cell_type": "markdown",
   "metadata": {},
   "source": [
    "### Gradients\n",
    "\n",
    "The gradient with respect to $\\theta$ comes out exactly as with linear regression:\n",
    "\n",
    "$\n",
    "\\nabla_\\theta J(\\theta) = \\sum_i x^{(i)} (h_\\theta(x^{(i)}) - y^{(i)})\n",
    "$"
   ]
  },
  {
   "cell_type": "code",
   "execution_count": 123,
   "metadata": {},
   "outputs": [
    {
     "name": "stdout",
     "output_type": "stream",
     "text": [
      "Epoch:  1 loss:  9448.189453125\n",
      "Epoch:  10 loss:  2822.199462890625\n",
      "Epoch:  20 loss:  1676.8770751953125\n",
      "Epoch:  30 loss:  1231.9415283203125\n",
      "Epoch:  40 loss:  991.583984375\n",
      "Epoch:  50 loss:  839.4447631835938\n",
      "Epoch:  60 loss:  733.7098388671875\n",
      "Epoch:  70 loss:  655.5446166992188\n",
      "Epoch:  80 loss:  595.1697998046875\n",
      "Epoch:  90 loss:  546.982666015625\n",
      "Epoch:  100 loss:  507.5332336425781\n"
     ]
    }
   ],
   "source": [
    "def gradient_descent(inputs: tensor, targets: tensor, epochs: int, learning_rate: float) -> tensor:\n",
    "    # Initialise random weights\n",
    "    weights = torch.rand(1, inputs.shape[1], dtype=torch.float) / inputs.shape[1]\n",
    "    \n",
    "    for i in range(epochs):\n",
    "        \n",
    "        # Forward\n",
    "        activations = inputs @ weights.T\n",
    "        predictions = torch.sigmoid(activations)    \n",
    "        number_predictions = predictions.shape[0]\n",
    "        loss = nll_loss_binary(predictions, targets)\n",
    "        \n",
    "        # Backwards\n",
    "        errors = predictions - targets\n",
    "        gradients_weights = torch.matmul(errors.T, inputs) / number_predictions\n",
    "        \n",
    "        # Step\n",
    "        weights -= gradients_weights * learning_rate\n",
    "        \n",
    "        if i == 0 or ((i + 1) % 10) == 0:\n",
    "            print(\"Epoch: \", i + 1 , \"loss: \", loss)\n",
    "    \n",
    "    return weights\n",
    "    \n",
    "trained_weights = gradient_descent(train_x, train_y, 100, .01)"
   ]
  },
  {
   "cell_type": "markdown",
   "metadata": {},
   "source": [
    "## Test\n",
    "\n",
    "Get accurancy, by calculating the number of correct predictions in the test dataset."
   ]
  },
  {
   "cell_type": "code",
   "execution_count": 118,
   "metadata": {},
   "outputs": [
    {
     "data": {
      "text/plain": [
       "0.46335697174072266"
      ]
     },
     "execution_count": 118,
     "metadata": {},
     "output_type": "execute_result"
    }
   ],
   "source": [
    "def check_accuracy(trained_weights: tensor, test_inputs: tensor, test_targets: tensor) -> float:\n",
    "    activations = test_inputs @ trained_weights.T\n",
    "    predictions = torch.sigmoid(activations)  \n",
    "    \n",
    "    # Get the predictions as most likely number (0 or 1), rather than probabilities\n",
    "    predicted_1 = predictions > 0.5\n",
    "    predicted_numbers = predicted_1.type(torch.int8)\n",
    "    \n",
    "    accurate_predictions = predicted_numbers == test_targets\n",
    "    accuracy = torch.sum(accurate_predictions) / test_targets.shape[0]\n",
    "    return accuracy.item()\n",
    "\n",
    "# Test with random numbers\n",
    "check_accuracy(torch.rand(1, test_x.shape[1], dtype=torch.float) / test_x.shape[1], test_x, test_y)"
   ]
  },
  {
   "cell_type": "code",
   "execution_count": 124,
   "metadata": {},
   "outputs": [
    {
     "data": {
      "text/plain": [
       "0.9976359605789185"
      ]
     },
     "execution_count": 124,
     "metadata": {},
     "output_type": "execute_result"
    }
   ],
   "source": [
    "check_accuracy(trained_weights, test_x, test_y)"
   ]
  },
  {
   "cell_type": "markdown",
   "metadata": {},
   "source": [
    "This is as expected (close to 100% accuracy as 0s and 1s are very different)."
   ]
  }
 ],
 "metadata": {
  "kernelspec": {
   "display_name": "Python 3",
   "language": "python",
   "name": "python3"
  },
  "language_info": {
   "codemirror_mode": {
    "name": "ipython",
    "version": 3
   },
   "file_extension": ".py",
   "mimetype": "text/x-python",
   "name": "python",
   "nbconvert_exporter": "python",
   "pygments_lexer": "ipython3",
   "version": "3.8.5"
  }
 },
 "nbformat": 4,
 "nbformat_minor": 4
}
