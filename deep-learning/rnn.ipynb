{
 "cells": [
  {
   "cell_type": "markdown",
   "metadata": {},
   "source": [
    "# RNN - Classifying Names by Language\n",
    "\n",
    "Based on [NLP From Scratch Pytorch Tutorial](https://pytorch.org/tutorials/intermediate/char_rnn_classification_tutorial.html) but with lots of simplifications/improvements. Creates a RNN from scratch using loops and basic matrix operations. "
   ]
  },
  {
   "cell_type": "code",
   "execution_count": 1,
   "metadata": {},
   "outputs": [],
   "source": [
    "from os import path\n",
    "from requests import get\n",
    "from zipfile import ZipFile\n",
    "import shutil\n",
    "from __future__ import unicode_literals, print_function, division\n",
    "from io import open\n",
    "import glob\n",
    "import os\n",
    "import unicodedata\n",
    "import string\n",
    "import torch\n",
    "import torch.nn as nn"
   ]
  },
  {
   "cell_type": "markdown",
   "metadata": {},
   "source": [
    "## Data\n",
    "\n",
    "First we download the data:"
   ]
  },
  {
   "cell_type": "code",
   "execution_count": 2,
   "metadata": {},
   "outputs": [],
   "source": [
    "local_path_zip = path.join(\"data\", \"language.zip\")\n",
    "local_path_files = path.join(\"data\", \"language\")\n",
    "\n",
    "# Download the data if it doesn't exist localy\n",
    "if not path.isfile(local_path_zip):\n",
    "    data_url = \"https://download.pytorch.org/tutorial/data.zip\"\n",
    "    r = get(data_url, allow_redirects=True)\n",
    "    open(local_path_zip, 'wb').write(r.content)\n",
    "    \n",
    "    # Extract\n",
    "    zip = ZipFile(local_path_zip,\"r\")\n",
    "    zip.extractall(local_path_files, files)"
   ]
  },
  {
   "cell_type": "markdown",
   "metadata": {},
   "source": [
    "Next we process. The tutorial does this in a very roundabout way so instead we create an array of data, which contains tuples of name, language"
   ]
  },
  {
   "cell_type": "code",
   "execution_count": 155,
   "metadata": {},
   "outputs": [
    {
     "data": {
      "text/plain": [
       "(20074,\n",
       " ['Greek',\n",
       "  'Japanese',\n",
       "  'French',\n",
       "  'Portuguese',\n",
       "  'Russian',\n",
       "  'German',\n",
       "  'Chinese',\n",
       "  'Italian',\n",
       "  'Czech',\n",
       "  'Korean',\n",
       "  'Vietnamese',\n",
       "  'English',\n",
       "  'Dutch',\n",
       "  'Arabic',\n",
       "  'Spanish',\n",
       "  'Polish',\n",
       "  'Scottish',\n",
       "  'Irish'])"
      ]
     },
     "execution_count": 155,
     "metadata": {},
     "output_type": "execute_result"
    }
   ],
   "source": [
    "all_letters = string.ascii_letters + \" .,;'\"\n",
    "n_letters = len(all_letters)\n",
    "\n",
    "# Turn a Unicode string to plain ASCII, thanks to https://stackoverflow.com/a/518232/2809427\n",
    "def unicodeToAscii(s):\n",
    "    return ''.join(\n",
    "        c for c in unicodedata.normalize('NFD', s)\n",
    "        if unicodedata.category(c) != 'Mn'\n",
    "        and c in all_letters\n",
    "    )\n",
    "\n",
    "# Build the category_lines dictionary, a list of names per language\n",
    "raw_data = []\n",
    "languages = []\n",
    "\n",
    "def readLines(filename):\n",
    "    \"\"\" Read a file by line \"\"\"\n",
    "    names_unicode = open(filename, encoding='utf-8').read().strip().split('\\n')\n",
    "    return [unicodeToAscii(name) for name in names_unicode]\n",
    "\n",
    "# Populate data with all the names from all files\n",
    "for filename in glob.glob(local_path_files + '/data/names/*.txt'):\n",
    "    language = os.path.splitext(os.path.basename(filename))[0]\n",
    "    languages.append(language)\n",
    "    names = readLines(filename)\n",
    "    for name in names:\n",
    "        raw_data.append([name, language])\n",
    "\n",
    "len(raw_data), languages"
   ]
  },
  {
   "cell_type": "markdown",
   "metadata": {},
   "source": [
    "Now we want to shuffle the data for training:"
   ]
  },
  {
   "cell_type": "code",
   "execution_count": 54,
   "metadata": {},
   "outputs": [
    {
     "data": {
      "text/plain": [
       "[['Pylin', 'Russian'],\n",
       " ['Abdrakhmanov', 'Russian'],\n",
       " ['Totah', 'Arabic'],\n",
       " ['Teague', 'English'],\n",
       " ['Nahutin', 'Russian']]"
      ]
     },
     "execution_count": 54,
     "metadata": {},
     "output_type": "execute_result"
    }
   ],
   "source": [
    "import random\n",
    "random.shuffle(raw_data)\n",
    "raw_data[:5]"
   ]
  },
  {
   "cell_type": "markdown",
   "metadata": {},
   "source": [
    "### One-Hot Encoding\n",
    "\n",
    "Now we want to convert the input (name) into a tensor. No need for the output as PyTorch does this at runtime."
   ]
  },
  {
   "cell_type": "code",
   "execution_count": 26,
   "metadata": {},
   "outputs": [
    {
     "data": {
      "text/plain": [
       "\"abcdefghijklmnopqrstuvwxyzABCDEFGHIJKLMNOPQRSTUVWXYZ .,;'\""
      ]
     },
     "execution_count": 26,
     "metadata": {},
     "output_type": "execute_result"
    }
   ],
   "source": [
    "letters = string.ascii_letters + \" .,;'\"\n",
    "letters"
   ]
  },
  {
   "cell_type": "code",
   "execution_count": 132,
   "metadata": {},
   "outputs": [
    {
     "data": {
      "text/plain": [
       "[tensor([[0., 0., 0., 0., 0., 0., 0., 0., 0., 0., 0., 0., 0., 0., 0., 0., 0., 0.,\n",
       "          0., 0., 0., 0., 0., 0., 0., 0., 1., 0., 0., 0., 0., 0., 0., 0., 0., 0.,\n",
       "          0., 0., 0., 0., 0., 0., 0., 0., 0., 0., 0., 0., 0., 0., 0., 0., 0., 0.,\n",
       "          0., 0., 0.],\n",
       "         [0., 1., 0., 0., 0., 0., 0., 0., 0., 0., 0., 0., 0., 0., 0., 0., 0., 0.,\n",
       "          0., 0., 0., 0., 0., 0., 0., 0., 0., 0., 0., 0., 0., 0., 0., 0., 0., 0.,\n",
       "          0., 0., 0., 0., 0., 0., 0., 0., 0., 0., 0., 0., 0., 0., 0., 0., 0., 0.,\n",
       "          0., 0., 0.],\n",
       "         [0., 0., 0., 1., 0., 0., 0., 0., 0., 0., 0., 0., 0., 0., 0., 0., 0., 0.,\n",
       "          0., 0., 0., 0., 0., 0., 0., 0., 0., 0., 0., 0., 0., 0., 0., 0., 0., 0.,\n",
       "          0., 0., 0., 0., 0., 0., 0., 0., 0., 0., 0., 0., 0., 0., 0., 0., 0., 0.,\n",
       "          0., 0., 0.],\n",
       "         [0., 0., 0., 0., 0., 0., 0., 0., 0., 0., 0., 0., 0., 0., 0., 0., 0., 1.,\n",
       "          0., 0., 0., 0., 0., 0., 0., 0., 0., 0., 0., 0., 0., 0., 0., 0., 0., 0.,\n",
       "          0., 0., 0., 0., 0., 0., 0., 0., 0., 0., 0., 0., 0., 0., 0., 0., 0., 0.,\n",
       "          0., 0., 0.],\n",
       "         [1., 0., 0., 0., 0., 0., 0., 0., 0., 0., 0., 0., 0., 0., 0., 0., 0., 0.,\n",
       "          0., 0., 0., 0., 0., 0., 0., 0., 0., 0., 0., 0., 0., 0., 0., 0., 0., 0.,\n",
       "          0., 0., 0., 0., 0., 0., 0., 0., 0., 0., 0., 0., 0., 0., 0., 0., 0., 0.,\n",
       "          0., 0., 0.],\n",
       "         [0., 0., 0., 0., 0., 0., 0., 0., 0., 0., 1., 0., 0., 0., 0., 0., 0., 0.,\n",
       "          0., 0., 0., 0., 0., 0., 0., 0., 0., 0., 0., 0., 0., 0., 0., 0., 0., 0.,\n",
       "          0., 0., 0., 0., 0., 0., 0., 0., 0., 0., 0., 0., 0., 0., 0., 0., 0., 0.,\n",
       "          0., 0., 0.],\n",
       "         [0., 0., 0., 0., 0., 0., 0., 1., 0., 0., 0., 0., 0., 0., 0., 0., 0., 0.,\n",
       "          0., 0., 0., 0., 0., 0., 0., 0., 0., 0., 0., 0., 0., 0., 0., 0., 0., 0.,\n",
       "          0., 0., 0., 0., 0., 0., 0., 0., 0., 0., 0., 0., 0., 0., 0., 0., 0., 0.,\n",
       "          0., 0., 0.],\n",
       "         [0., 0., 0., 0., 0., 0., 0., 0., 0., 0., 0., 0., 1., 0., 0., 0., 0., 0.,\n",
       "          0., 0., 0., 0., 0., 0., 0., 0., 0., 0., 0., 0., 0., 0., 0., 0., 0., 0.,\n",
       "          0., 0., 0., 0., 0., 0., 0., 0., 0., 0., 0., 0., 0., 0., 0., 0., 0., 0.,\n",
       "          0., 0., 0.],\n",
       "         [1., 0., 0., 0., 0., 0., 0., 0., 0., 0., 0., 0., 0., 0., 0., 0., 0., 0.,\n",
       "          0., 0., 0., 0., 0., 0., 0., 0., 0., 0., 0., 0., 0., 0., 0., 0., 0., 0.,\n",
       "          0., 0., 0., 0., 0., 0., 0., 0., 0., 0., 0., 0., 0., 0., 0., 0., 0., 0.,\n",
       "          0., 0., 0.],\n",
       "         [0., 0., 0., 0., 0., 0., 0., 0., 0., 0., 0., 0., 0., 1., 0., 0., 0., 0.,\n",
       "          0., 0., 0., 0., 0., 0., 0., 0., 0., 0., 0., 0., 0., 0., 0., 0., 0., 0.,\n",
       "          0., 0., 0., 0., 0., 0., 0., 0., 0., 0., 0., 0., 0., 0., 0., 0., 0., 0.,\n",
       "          0., 0., 0.],\n",
       "         [0., 0., 0., 0., 0., 0., 0., 0., 0., 0., 0., 0., 0., 0., 1., 0., 0., 0.,\n",
       "          0., 0., 0., 0., 0., 0., 0., 0., 0., 0., 0., 0., 0., 0., 0., 0., 0., 0.,\n",
       "          0., 0., 0., 0., 0., 0., 0., 0., 0., 0., 0., 0., 0., 0., 0., 0., 0., 0.,\n",
       "          0., 0., 0.],\n",
       "         [0., 0., 0., 0., 0., 0., 0., 0., 0., 0., 0., 0., 0., 0., 0., 0., 0., 0.,\n",
       "          0., 0., 0., 1., 0., 0., 0., 0., 0., 0., 0., 0., 0., 0., 0., 0., 0., 0.,\n",
       "          0., 0., 0., 0., 0., 0., 0., 0., 0., 0., 0., 0., 0., 0., 0., 0., 0., 0.,\n",
       "          0., 0., 0.]]),\n",
       " 4]"
      ]
     },
     "execution_count": 132,
     "metadata": {},
     "output_type": "execute_result"
    }
   ],
   "source": [
    "def letter_to_index(letter: string) -> int :\n",
    "    return all_letters.find(letter)\n",
    "\n",
    "def name_to_tensor(name: string) -> torch.tensor:\n",
    "    \"\"\"\n",
    "    Convert a name into a mxn matrix, where m = number of letters in alphabet\n",
    "    and n = number of letters in the name\n",
    "    \"\"\"\n",
    "    tensor = torch.zeros(len(name), n_letters)\n",
    "    for li, letter in enumerate(name):\n",
    "        tensor[li][letter_to_index(letter)] = 1\n",
    "    return tensor\n",
    "\n",
    "data = [[nameToTensor(name), languages.index(language)] for name, language in raw_data]\n",
    "data[1]"
   ]
  },
  {
   "cell_type": "markdown",
   "metadata": {},
   "source": [
    "## Model\n",
    "\n",
    "<img src=\"https://i.imgur.com/Z2xbySO.png\"/>"
   ]
  },
  {
   "cell_type": "code",
   "execution_count": 125,
   "metadata": {},
   "outputs": [],
   "source": [
    "class RNN(nn.Module):\n",
    "    def __init__(self, input_size, hidden_size, output_size):\n",
    "        super(RNN, self).__init__()\n",
    "        self.hidden_size = hidden_size\n",
    "        self.i2h = nn.Linear(input_size + hidden_size, hidden_size)\n",
    "        self.i2o = nn.Linear(input_size + hidden_size, output_size)\n",
    "        self.softmax = nn.LogSoftmax(dim=1)\n",
    "\n",
    "    def forward(self, input, hidden):\n",
    "        combined = torch.cat((input, hidden), 1)\n",
    "        hidden = self.i2h(combined)\n",
    "        output = self.i2o(combined)\n",
    "        output = self.softmax(output)\n",
    "        return output, hidden\n",
    "\n",
    "    def initHidden(self):\n",
    "        return torch.zeros(1, self.hidden_size)\n",
    "\n",
    "n_hidden = 128\n",
    "rnn = RNN(n_letters, n_hidden, n_categories)"
   ]
  },
  {
   "cell_type": "code",
   "execution_count": 133,
   "metadata": {},
   "outputs": [
    {
     "data": {
      "text/plain": [
       "(torch.Size([6, 1, 57]),\n",
       " torch.Size([1, 128]),\n",
       " tensor([[-2.8870, -2.1749, -3.0054, -2.9577, -3.0302, -2.9240, -2.9862, -3.0015,\n",
       "          -2.8840, -3.0046, -3.0320, -2.9114, -2.9140, -2.9943, -2.8992, -2.9538,\n",
       "          -2.9546, -2.8960]], grad_fn=<LogSoftmaxBackward>))"
      ]
     },
     "execution_count": 133,
     "metadata": {},
     "output_type": "execute_result"
    }
   ],
   "source": [
    "input = lineToTensor('Albert')\n",
    "hidden = torch.zeros(1, n_hidden)\n",
    "output, next_hidden = rnn(input[0], hidden)\n",
    "input.shape, hidden.shape, output"
   ]
  },
  {
   "cell_type": "markdown",
   "metadata": {},
   "source": [
    "## Training"
   ]
  },
  {
   "cell_type": "code",
   "execution_count": 136,
   "metadata": {},
   "outputs": [
    {
     "name": "stdout",
     "output_type": "stream",
     "text": [
      "tensor(1.3126, grad_fn=<DivBackward0>)\n",
      "tensor(1.0595, grad_fn=<DivBackward0>)\n",
      "tensor(0.9677, grad_fn=<DivBackward0>)\n",
      "tensor(0.9187, grad_fn=<DivBackward0>)\n",
      "tensor(0.8849, grad_fn=<DivBackward0>)\n"
     ]
    }
   ],
   "source": [
    "criterion = nn.NLLLoss()\n",
    "learning_rate = 0.005\n",
    "\n",
    "def train(n_batches: int):\n",
    "  \n",
    "    # For each batch\n",
    "    for i in range(n_batches):\n",
    "       \n",
    "        batch_loss = 0\n",
    "    \n",
    "        # For each training example\n",
    "        for name, language in data:\n",
    "            \n",
    "            hidden = rnn.initHidden()\n",
    "            rnn.zero_grad()\n",
    "\n",
    "            # Go through one letter at a time\n",
    "            for letter_number in range(name.shape[0]):\n",
    "                output, hidden = rnn(name[letter_number].unsqueeze(0), hidden)\n",
    "            \n",
    "            loss = criterion(output, torch.tensor([language]))\n",
    "            batch_loss += loss\n",
    "            loss.backward()\n",
    "    \n",
    "            # Add parameters' gradients to their values, multiplied by learning rate\n",
    "            for p in rnn.parameters():\n",
    "                p.data.add_(p.grad.data, alpha=-learning_rate)\n",
    "                \n",
    "        # Print the batch loss\n",
    "        print(batch_loss/len(data))\n",
    "        \n",
    "train(5)"
   ]
  },
  {
   "cell_type": "markdown",
   "metadata": {},
   "source": [
    "## Use\n",
    "\n",
    "Testing with a few names:"
   ]
  },
  {
   "cell_type": "code",
   "execution_count": 161,
   "metadata": {},
   "outputs": [
    {
     "data": {
      "text/plain": [
       "('English', 'Russian', 'Italian', 'Japanese')"
      ]
     },
     "execution_count": 161,
     "metadata": {},
     "output_type": "execute_result"
    }
   ],
   "source": [
    "def predict(name: string):\n",
    "    input = name_to_tensor(name)\n",
    "    hidden = rnn.initHidden()\n",
    "    for letter_number in range(input.shape[0]):\n",
    "        output, hidden = rnn(input[letter_number].unsqueeze(0), hidden)\n",
    "    \n",
    "    _pred, language_index = torch.topk(output, 1, 1)\n",
    "    return languages[language_index[0][0]]\n",
    "\n",
    "predict(\"Alan\"), predict(\"Dostoevsky\"), predict(\"Francisco\"), predict(\"Siya\")"
   ]
  }
 ],
 "metadata": {
  "kernelspec": {
   "display_name": "Python 3",
   "language": "python",
   "name": "python3"
  },
  "language_info": {
   "codemirror_mode": {
    "name": "ipython",
    "version": 3
   },
   "file_extension": ".py",
   "mimetype": "text/x-python",
   "name": "python",
   "nbconvert_exporter": "python",
   "pygments_lexer": "ipython3",
   "version": "3.8.5"
  }
 },
 "nbformat": 4,
 "nbformat_minor": 4
}
